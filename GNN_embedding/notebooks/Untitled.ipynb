{
 "cells": [
  {
   "cell_type": "code",
   "execution_count": 27,
   "metadata": {},
   "outputs": [
    {
     "name": "stdout",
     "output_type": "stream",
     "text": [
      "Experiment name is 04-04_19-23-04\n"
     ]
    }
   ],
   "source": [
    "\"\"\"\n",
    "    @author: Ben, Yusuf, Kendrick\n",
    "    Trains models to predict disease gene associations.\n",
    "    \"\"\"\n",
    "import torch\n",
    "import torch.nn.functional as F\n",
    "from datetime import datetime\n",
    "import numpy as np\n",
    "from load_assoc import ProcessData\n",
    "#from neural_net import GNN\n",
    "#import utils\n",
    "from torch.utils.tensorboard import SummaryWriter\n",
    "import numpy as np\n",
    "from sklearn.model_selection import StratifiedKFold, train_test_split\n",
    "import copy\n",
    "import random\n",
    "import pandas as pd\n",
    "#import conv_layers\n",
    "#import optimizers\n",
    "\n",
    "\n",
    "\n",
    "\n",
    "def trainer(args, num_folds=5):\n",
    "    edgelist_file = args['dataset']\n",
    "\n",
    "    processed_data = ProcessData(edgelist_file, use_features=args['use_features'])\n",
    "    X = processed_data.X\n",
    "    X = torch.tensor(X.values, dtype=torch.float)\n",
    "    disease_test_scores = {}\n",
    "\n",
    "\n",
    "    # This returns all disease indices corresponding to given disease classes\n",
    "    sel_diseases = processed_data.get_disease_class_idx(['cancer'])\n",
    "    processed_data.Y = processed_data.Y.iloc[:,sel_diseases]\n",
    "\n",
    "    for ind, column in enumerate(processed_data.Y):\n",
    "        #if ind > 5: break # TODO: Remove this later on. For testing purposes only\n",
    "        \n",
    "        y = processed_data.Y[column].tolist()\n",
    "        edges = processed_data.get_edges()\n",
    "        \n",
    "        y = torch.tensor(np.array(y).astype('int'), dtype=torch.long)\n",
    "        edges = torch.tensor(edges.values, dtype=torch.long)\n",
    "        \n",
    "        # Set up train and test sets:\n",
    "        test_size = .1\n",
    "        #data_generator = load_pyg(X, edges, y,\n",
    "        #                                folds=num_folds, test_size=test_size)\n",
    "            \n",
    "        return X, edges, y\n",
    "\n",
    "if __name__ == '__main__':\n",
    "    dt = str(datetime.now())[5:19].replace(' ', '_').replace(':', '-')\n",
    "    \n",
    "    args={}\n",
    "    args['network-type']='GCNConv'\n",
    "    args['dataset']='../dataset_collection/GNBR-edgelist.csv'\n",
    "    args['expt_name']=dt\n",
    "    args['use_features']=True\n",
    "\n",
    "    print('Experiment name is', args['expt_name'])\n",
    "    x = trainer(args)\n"
   ]
  },
  {
   "cell_type": "code",
   "execution_count": 50,
   "metadata": {},
   "outputs": [],
   "source": [
    "def load_pyg(X, edges, y, folds=5, test_size=0.1):\n",
    "\n",
    "    # First identify the test set\n",
    "    indices = np.arange(len(X))\n",
    "    _,test_idx = train_test_split(indices, test_size=test_size,\n",
    "                                             stratify=y, random_state=40)\n",
    "\n",
    "    # Now use the remainder of the data to create train and val sets\n",
    "    kf = StratifiedKFold(n_splits=folds, random_state=2)\n",
    "\n",
    "    # Consider all edges and their reverse\n",
    "    edges = [e for e in edges.numpy() if e[0] != e[1]] # Remove self edges\n",
    "    reverse_edges = np.flip(np.array(edges),1)\n",
    "    edges = np.concatenate([edges,reverse_edges])\n",
    "    edges = np.unique(edges,axis=1) # Remove repeats\n",
    "    #edges = torch.tensor(edges, dtype=torch.long)\n",
    "                    \n",
    "    return edges"
   ]
  },
  {
   "cell_type": "code",
   "execution_count": 51,
   "metadata": {},
   "outputs": [],
   "source": [
    "y = load_pyg(x[0], x[1], x[2], folds=5, test_size=0.1)"
   ]
  },
  {
   "cell_type": "code",
   "execution_count": 52,
   "metadata": {},
   "outputs": [
    {
     "data": {
      "text/plain": [
       "array([[  465, 10003],\n",
       "       [  465,   466],\n",
       "       [  465,  2024],\n",
       "       ...,\n",
       "       [19156, 19676],\n",
       "       [13731, 13730],\n",
       "       [13743, 13742]])"
      ]
     },
     "execution_count": 52,
     "metadata": {},
     "output_type": "execute_result"
    }
   ],
   "source": [
    "y"
   ]
  },
  {
   "cell_type": "code",
   "execution_count": 53,
   "metadata": {},
   "outputs": [
    {
     "data": {
      "text/plain": [
       "389266"
      ]
     },
     "execution_count": 53,
     "metadata": {},
     "output_type": "execute_result"
    }
   ],
   "source": [
    "len(y)"
   ]
  },
  {
   "cell_type": "code",
   "execution_count": 54,
   "metadata": {},
   "outputs": [
    {
     "data": {
      "text/plain": [
       "tensor(indices=tensor([], size=(2, 0)),\n",
       "       values=tensor([], size=(0,)),\n",
       "       size=(2, 3), nnz=0, layout=torch.sparse_coo)"
      ]
     },
     "execution_count": 54,
     "metadata": {},
     "output_type": "execute_result"
    }
   ],
   "source": [
    "torch.sparse.FloatTensor(2, 3)"
   ]
  },
  {
   "cell_type": "code",
   "execution_count": null,
   "metadata": {},
   "outputs": [],
   "source": []
  }
 ],
 "metadata": {
  "kernelspec": {
   "display_name": "Python 3",
   "language": "python",
   "name": "python3"
  },
  "language_info": {
   "codemirror_mode": {
    "name": "ipython",
    "version": 3
   },
   "file_extension": ".py",
   "mimetype": "text/x-python",
   "name": "python",
   "nbconvert_exporter": "python",
   "pygments_lexer": "ipython3",
   "version": "3.7.4"
  }
 },
 "nbformat": 4,
 "nbformat_minor": 2
}
