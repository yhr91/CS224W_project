{
 "cells": [
  {
   "cell_type": "markdown",
   "metadata": {},
   "source": [
    "### Creating a single edge list (PPI + GNBR)"
   ]
  },
  {
   "cell_type": "code",
   "execution_count": 94,
   "metadata": {},
   "outputs": [],
   "source": [
    "import pandas as pd\n",
    "x = pd.read_csv('../dataset_collection/GNBR-edgelist.txt',header=2, delimiter='\\t')\n",
    "x = x.rename(columns={x.columns[0]:0,x.columns[1]:1})\n",
    "\n",
    "#y = pd.read_csv('../dataset_collection/PP-Decagon_ppi.csv',header=None)\n",
    "\n",
    "#z = pd.concat([x,y])"
   ]
  },
  {
   "cell_type": "code",
   "execution_count": 3,
   "metadata": {},
   "outputs": [],
   "source": [
    "x.to_csv('../dataset_collection/GNBR-edgelist.csv',\n",
    "         index=False, header=False)"
   ]
  },
  {
   "cell_type": "code",
   "execution_count": null,
   "metadata": {},
   "outputs": [],
   "source": [
    "z.to_csv('../dataset_collection/Decagon_GNBR.csv',\n",
    "         index=False, header=False)"
   ]
  },
  {
   "cell_type": "markdown",
   "metadata": {},
   "source": [
    "### Plotting results"
   ]
  },
  {
   "cell_type": "code",
   "execution_count": 115,
   "metadata": {},
   "outputs": [],
   "source": [
    "import pandas as pd\n",
    "import matplotlib.pyplot as plt\n",
    "import seaborn as sns\n",
    "import glob\n",
    "import numpy as np\n",
    "import os\n",
    "import ast\n",
    "import seaborn as sns"
   ]
  },
  {
   "cell_type": "code",
   "execution_count": 133,
   "metadata": {},
   "outputs": [],
   "source": [
    "skip = ['bensmodels/GConv_GNBR_nofeat2']\n",
    "#skip = ['bensmodels/SAGEConv_GNBR_feat','bensmodels/GConv_GNBR_feat']"
   ]
  },
  {
   "cell_type": "code",
   "execution_count": 165,
   "metadata": {},
   "outputs": [
    {
     "data": {
      "text/plain": [
       "array(['bensmodels/GConv_GNBR_feat', 'bensmodels/GConv_GNBR_nofeat',\n",
       "       'bensmodels/GConv_GNBR_nofeat2', 'bensmodels/GConv_PPI_GNBR_feat',\n",
       "       'bensmodels/GConv_PPI_GNBR_nofeat', 'bensmodels/GConv_PPI_feat',\n",
       "       'bensmodels/GConv_PPI_nofeat', 'bensmodels/SAGEConv_GNBR_feat',\n",
       "       'bensmodels/SAGEConv_GNBR_nofeat',\n",
       "       'bensmodels/SAGEConv_PPI_GNBR_feat',\n",
       "       'bensmodels/SAGEConv_PPI_GNBR_nofeat',\n",
       "       'bensmodels/SAGEConv_PPI_feat', 'bensmodels/SAGEConv_PPI_nofeat'],\n",
       "      dtype='<U35')"
      ]
     },
     "execution_count": 165,
     "metadata": {},
     "output_type": "execute_result"
    }
   ],
   "source": [
    "np.sort(glob.glob('bensmodels/*'))"
   ]
  },
  {
   "cell_type": "code",
   "execution_count": 191,
   "metadata": {},
   "outputs": [],
   "source": [
    "dirs = [\n",
    " 'bensmodels/SAGEConv_PPI_GNBR_feat',\n",
    " 'bensmodels/SAGEConv_PPI_GNBR_nofeat',\n",
    " 'bensmodels/SAGEConv_GNBR_feat',\n",
    " 'bensmodels/SAGEConv_GNBR_nofeat',\n",
    " 'bensmodels/SAGEConv_PPI_feat',\n",
    " 'bensmodels/SAGEConv_PPI_nofeat',\n",
    " 'bensmodels/GConv_PPI_GNBR_feat',\n",
    " 'bensmodels/GConv_PPI_GNBR_nofeat',\n",
    " 'bensmodels/GConv_GNBR_feat',\n",
    " 'bensmodels/GConv_GNBR_nofeat',\n",
    " 'bensmodels/GConv_PPI_feat',\n",
    " 'bensmodels/GConv_PPI_nofeat',]"
   ]
  },
  {
   "cell_type": "code",
   "execution_count": null,
   "metadata": {},
   "outputs": [],
   "source": [
    "## Create Heatmap\n",
    "\n",
    "recalls = {}\n",
    "rows = []\n",
    "#dirs = np.sort(glob.glob('bensmodels/*'))[::-1]\n",
    "\n",
    "for directory in dirs:\n",
    "    \n",
    "    if directory in skip:\n",
    "        continue\n",
    "\n",
    "    results = {}\n",
    "    for fname in os.listdir(directory):\n",
    "        if fname[-4:] != '.txt': continue\n",
    "        f = open(os.path.join(directory, fname), 'r')\n",
    "        d = ast.literal_eval(f.read())\n",
    "        results.update(d)\n",
    "       \n",
    "    recalls[directory] = []\n",
    "    for key,val in results.items():\n",
    "        recalls[directory].append(val[1]['recall'])\n",
    "    \n",
    "    rows.append(directory)"
   ]
  },
  {
   "cell_type": "code",
   "execution_count": null,
   "metadata": {},
   "outputs": [],
   "source": [
    "## Correcting for different lengths\n",
    "\n",
    "recalls_mat = np.array([recalls[k][:517] for k in rows])\n",
    "#recalls_mat = recalls_mat[recalls_mat[:,1].argsort()]"
   ]
  },
  {
   "cell_type": "code",
   "execution_count": null,
   "metadata": {
    "scrolled": false
   },
   "outputs": [],
   "source": [
    "plt.figure(figsize = [20,8])\n",
    "g = sns.heatmap(recalls_mat, cmap=\"Reds\",\n",
    "            xticklabels=False, \n",
    "            yticklabels=[f.split('/')[1] for f in rows])\n",
    "#g.legend_.remove()\n",
    "plt.ylim([-1,len(recalls)])"
   ]
  },
  {
   "cell_type": "code",
   "execution_count": null,
   "metadata": {},
   "outputs": [],
   "source": []
  }
 ],
 "metadata": {
  "kernelspec": {
   "display_name": "Python 3",
   "language": "python",
   "name": "python3"
  },
  "language_info": {
   "codemirror_mode": {
    "name": "ipython",
    "version": 3
   },
   "file_extension": ".py",
   "mimetype": "text/x-python",
   "name": "python",
   "nbconvert_exporter": "python",
   "pygments_lexer": "ipython3",
   "version": "3.7.4"
  },
  "varInspector": {
   "cols": {
    "lenName": 16,
    "lenType": 16,
    "lenVar": 40
   },
   "kernels_config": {
    "python": {
     "delete_cmd_postfix": "",
     "delete_cmd_prefix": "del ",
     "library": "var_list.py",
     "varRefreshCmd": "print(var_dic_list())"
    },
    "r": {
     "delete_cmd_postfix": ") ",
     "delete_cmd_prefix": "rm(",
     "library": "var_list.r",
     "varRefreshCmd": "cat(var_dic_list()) "
    }
   },
   "types_to_exclude": [
    "module",
    "function",
    "builtin_function_or_method",
    "instance",
    "_Feature"
   ],
   "window_display": false
  }
 },
 "nbformat": 4,
 "nbformat_minor": 2
}
