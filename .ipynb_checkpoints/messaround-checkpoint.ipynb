{
 "cells": [
  {
   "cell_type": "code",
   "execution_count": 35,
   "metadata": {},
   "outputs": [],
   "source": [
    "import load_graph\n",
    "import pandas as pd\n",
    "import numpy as np"
   ]
  },
  {
   "cell_type": "code",
   "execution_count": 36,
   "metadata": {},
   "outputs": [],
   "source": [
    "edgelist = pd.read_csv('Data/ForAnalysis/ConsensusPathDB_human_PPI_HiConfidence_snap.csv')\n",
    "x = pd.read_csv('Data/ForAnalysis/ConsensusPathDB_human_PPI_HiConfidence_snap_FeatsMat.csv')\n",
    "x.drop(columns=x.columns[0], inplace=True)"
   ]
  },
  {
   "cell_type": "code",
   "execution_count": 37,
   "metadata": {},
   "outputs": [],
   "source": [
    "assert len(x['index'].unique()) == len(x['index']) # no repeated features"
   ]
  },
  {
   "cell_type": "code",
   "execution_count": 38,
   "metadata": {},
   "outputs": [],
   "source": [
    "# find all unique nodes\n",
    "nodes = edgelist['node0'].append(edgelist['node1'])\n",
    "nodes = nodes.unique()\n",
    "mappings = { nodes[i]: i for i in range(len(nodes)) }"
   ]
  },
  {
   "cell_type": "code",
   "execution_count": 39,
   "metadata": {
    "scrolled": true
   },
   "outputs": [],
   "source": [
    "normalized_edgelist = set()\n",
    "for index, row in edgelist.iterrows():\n",
    "    if tuple([mappings[row['node0']], mappings[row['node1']]]) in normalized_edgelist:\n",
    "        print('no')\n",
    "    normalized_edgelist.add(tuple([mappings[row['node0']], mappings[row['node1']]]))\n",
    "    if tuple([mappings[row['node1']], mappings[row['node0']]]) in normalized_edgelist:\n",
    "        print('no')\n",
    "    normalized_edgelist.add(tuple([mappings[row['node1']], mappings[row['node0']]]))"
   ]
  },
  {
   "cell_type": "code",
   "execution_count": 42,
   "metadata": {},
   "outputs": [],
   "source": [
    "normalized_node0 = edgelist['node0'].apply(lambda cell: mappings[cell])\n",
    "normalized_node1 = edgelist['node1'].apply(lambda cell: mappings[cell])\n",
    "normalized_edgelist = pd.concat((normalized_node0, normalized_node1), axis=1)\n",
    "backwards_edges = pd.concat((normalized_edgelist['node0'], normalized_edgelist['node1']), axis=1)\n",
    "normalized_edgelist = pd.concat((normalized_edgelist, backwards_edges))"
   ]
  },
  {
   "cell_type": "code",
   "execution_count": 44,
   "metadata": {
    "scrolled": true
   },
   "outputs": [
    {
     "data": {
      "text/plain": [
       "14011"
      ]
     },
     "execution_count": 44,
     "metadata": {},
     "output_type": "execute_result"
    }
   ],
   "source": [
    "len(nodes)"
   ]
  },
  {
   "cell_type": "code",
   "execution_count": 45,
   "metadata": {
    "scrolled": false
   },
   "outputs": [
    {
     "data": {
      "text/plain": [
       "6364"
      ]
     },
     "execution_count": 45,
     "metadata": {},
     "output_type": "execute_result"
    }
   ],
   "source": [
    "len(x)"
   ]
  },
  {
   "cell_type": "code",
   "execution_count": 46,
   "metadata": {},
   "outputs": [],
   "source": [
    "known_genes = pd.read_csv('Data/ForAnalysis/Y/NCG_cancergenes_list.txt', sep='\\t')\n",
    "known = set(known_genes['711_Known_Cancer_Genes'])"
   ]
  },
  {
   "cell_type": "code",
   "execution_count": 48,
   "metadata": {},
   "outputs": [],
   "source": [
    "y = np.zeros(len(nodes))\n",
    "feature_matrix = pd.DataFrame(np.zeros((len(nodes), 3)), dtype=float, columns=['breast', 'bladder', 'kidney'])\n",
    "for i, row in x.iterrows():\n",
    "    new_index = mappings[row['index']]\n",
    "    feature_matrix.iloc[new_index] = row[['breast', 'bladder', 'kidney']]\n",
    "    y[new_index] = int(row['Hugo_Symbol'] in known)"
   ]
  },
  {
   "cell_type": "code",
   "execution_count": 49,
   "metadata": {},
   "outputs": [],
   "source": [
    "feature_matrix.to_csv('feature_matrix.csv')"
   ]
  },
  {
   "cell_type": "code",
   "execution_count": 50,
   "metadata": {},
   "outputs": [],
   "source": [
    "np.savetxt('y.txt', y)"
   ]
  },
  {
   "cell_type": "code",
   "execution_count": 51,
   "metadata": {},
   "outputs": [],
   "source": [
    "normalized_edgelist.to_csv('edgelist.csv')"
   ]
  },
  {
   "cell_type": "code",
   "execution_count": 52,
   "metadata": {},
   "outputs": [],
   "source": [
    "#!/usr/bin/env python3\n",
    "# -*- coding: utf-8 -*-\n",
    "\"\"\"\n",
    "Created on Thurs Nov 7 21:27:10 2019\n",
    "\n",
    "@author: Kendrick\n",
    "\n",
    "util functions\n",
    "\"\"\"\n",
    "import pandas as pd\n",
    "import numpy as np\n",
    "\n",
    "import torch\n",
    "from torch_geometric.data import Data, DataLoader\n",
    "\n",
    "def load_pyg(x, edge_index, y):\n",
    "    X = pd.read_csv(x)\n",
    "    X.drop(columns=X.columns[0], inplace=True)\n",
    "    X = torch.tensor(X.values, dtype=torch.float)\n",
    "    \n",
    "    edges = pd.read_csv(edge_index)\n",
    "    edges.drop(columns=edges.columns[0], inplace=True)\n",
    "    edges = torch.tensor(edges.values, dtype=torch.long)\n",
    "    \n",
    "    Y = np.loadtxt(y)\n",
    "    \n",
    "    data = Data(x=X, edge_index=edges.t().contiguous(), y=Y)\n",
    "    return data"
   ]
  },
  {
   "cell_type": "code",
   "execution_count": 53,
   "metadata": {},
   "outputs": [],
   "source": [
    "data = load_pyg('feature_matrix.csv', 'edgelist.csv', 'y.txt')"
   ]
  },
  {
   "cell_type": "code",
   "execution_count": 54,
   "metadata": {},
   "outputs": [
    {
     "data": {
      "text/plain": [
       "Data(edge_index=[2, 496434], x=[14011, 3], y=[0. 0. 0. ... 0. 0. 0.])"
      ]
     },
     "execution_count": 54,
     "metadata": {},
     "output_type": "execute_result"
    }
   ],
   "source": [
    "data"
   ]
  }
 ],
 "metadata": {
  "kernelspec": {
   "display_name": "Python 3",
   "language": "python",
   "name": "python3"
  },
  "language_info": {
   "codemirror_mode": {
    "name": "ipython",
    "version": 3
   },
   "file_extension": ".py",
   "mimetype": "text/x-python",
   "name": "python",
   "nbconvert_exporter": "python",
   "pygments_lexer": "ipython3",
   "version": "3.7.4"
  },
  "varInspector": {
   "cols": {
    "lenName": 16,
    "lenType": 16,
    "lenVar": 40
   },
   "kernels_config": {
    "python": {
     "delete_cmd_postfix": "",
     "delete_cmd_prefix": "del ",
     "library": "var_list.py",
     "varRefreshCmd": "print(var_dic_list())"
    },
    "r": {
     "delete_cmd_postfix": ") ",
     "delete_cmd_prefix": "rm(",
     "library": "var_list.r",
     "varRefreshCmd": "cat(var_dic_list()) "
    }
   },
   "types_to_exclude": [
    "module",
    "function",
    "builtin_function_or_method",
    "instance",
    "_Feature"
   ],
   "window_display": false
  }
 },
 "nbformat": 4,
 "nbformat_minor": 2
}
